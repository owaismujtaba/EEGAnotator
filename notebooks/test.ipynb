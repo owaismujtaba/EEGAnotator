{
 "cells": [
  {
   "cell_type": "code",
   "execution_count": 3,
   "metadata": {},
   "outputs": [
    {
     "ename": "ModuleNotFoundError",
     "evalue": "No module named 'code.audio'; 'code' is not a package",
     "output_type": "error",
     "traceback": [
      "\u001b[1;31m---------------------------------------------------------------------------\u001b[0m",
      "\u001b[1;31mModuleNotFoundError\u001b[0m                       Traceback (most recent call last)",
      "Cell \u001b[1;32mIn[3], line 4\u001b[0m\n\u001b[0;32m      1\u001b[0m \u001b[38;5;28;01mimport\u001b[39;00m \u001b[38;5;21;01msys\u001b[39;00m\n\u001b[0;32m      2\u001b[0m sys\u001b[38;5;241m.\u001b[39mpath\u001b[38;5;241m.\u001b[39mappend(\u001b[38;5;124m\"\u001b[39m\u001b[38;5;124mC:\u001b[39m\u001b[38;5;124m\\\u001b[39m\u001b[38;5;124mDeepRESTORE\u001b[39m\u001b[38;5;124m\\\u001b[39m\u001b[38;5;124mExectuable\u001b[39m\u001b[38;5;130;01m\\\\\u001b[39;00m\u001b[38;5;124m27-05-2024\u001b[39m\u001b[38;5;124m\\\u001b[39m\u001b[38;5;124mEEG_AUDIO_Anotator\u001b[39m\u001b[38;5;124m\\\u001b[39m\u001b[38;5;124msrc\u001b[39m\u001b[38;5;124m\"\u001b[39m)\n\u001b[1;32m----> 4\u001b[0m \u001b[38;5;28;01mfrom\u001b[39;00m \u001b[38;5;21;01mcode\u001b[39;00m\u001b[38;5;21;01m.\u001b[39;00m\u001b[38;5;21;01maudio\u001b[39;00m \u001b[38;5;28;01mimport\u001b[39;00m AudioData\n\u001b[0;32m      5\u001b[0m \u001b[38;5;28;01mfrom\u001b[39;00m \u001b[38;5;21;01mcode\u001b[39;00m\u001b[38;5;21;01m.\u001b[39;00m\u001b[38;5;21;01meeg\u001b[39;00m \u001b[38;5;28;01mimport\u001b[39;00m EegData\n\u001b[0;32m      6\u001b[0m edf_path \u001b[38;5;241m=\u001b[39m \u001b[38;5;124m'\u001b[39m\u001b[38;5;124mC:\u001b[39m\u001b[38;5;124m\\\u001b[39m\u001b[38;5;124mDeepRESTORE\u001b[39m\u001b[38;5;124m\\\u001b[39m\u001b[38;5;124mEEGAnotator\u001b[39m\u001b[38;5;124m\\\u001b[39m\u001b[38;5;124mData\u001b[39m\u001b[38;5;124m\\\u001b[39m\u001b[38;5;124mF10\u001b[39m\u001b[38;5;124m\\\u001b[39m\u001b[38;5;124mPictureNaming\u001b[39m\u001b[38;5;124m\\\u001b[39m\u001b[38;5;124meeg\u001b[39m\u001b[38;5;130;01m\\\\\u001b[39;00m\u001b[38;5;124mf10.edf\u001b[39m\u001b[38;5;124m'\u001b[39m\n",
      "\u001b[1;31mModuleNotFoundError\u001b[0m: No module named 'code.audio'; 'code' is not a package"
     ]
    }
   ],
   "source": [
    "import sys\n",
    "sys.path.append(\"C:\\DeepRESTORE\\Exectuable\\\\27-05-2024\\EEG_AUDIO_Anotator\\src\")\n",
    "\n",
    "from code.audio import AudioData\n",
    "from code.eeg import EegData\n",
    "edf_path = 'C:\\DeepRESTORE\\EEGAnotator\\Data\\F10\\PictureNaming\\eeg\\\\f10.edf'\n",
    "xdf_path = 'C:\\DeepRESTORE\\\\25-05-2024\\EEGAnotator\\Data\\F10\\PictureNaming\\\\xdf\\\\f10.xdf'\n",
    "#edf_path = '/home/owais/GitHub/21-05-2024/EEGAnotator/F10/PictureNaming/eeg/sample.edf'\n",
    "#xdf_path = '/home/owais/GitHub/21-05-2024/EEGAnotator/F10/PictureNaming/xdf/sample.xdf'\n",
    "audio = AudioData(filepath_xdf=xdf_path)\n",
    "eeg = EegData(edf_path)\n"
   ]
  },
  {
   "cell_type": "code",
   "execution_count": 3,
   "metadata": {},
   "outputs": [
    {
     "data": {
      "text/plain": [
       "'c:\\\\DeepRESTORE\\\\Exectuable\\\\27-05-2024\\\\EEG_AUDIO_Anotator'"
      ]
     },
     "execution_count": 3,
     "metadata": {},
     "output_type": "execute_result"
    }
   ],
   "source": [
    "import os\n",
    "os.getcwd()"
   ]
  },
  {
   "cell_type": "code",
   "execution_count": 3,
   "metadata": {},
   "outputs": [],
   "source": [
    "from src.utils import EEG_AUDIO_DATA"
   ]
  },
  {
   "cell_type": "code",
   "execution_count": 4,
   "metadata": {},
   "outputs": [],
   "source": [
    "eeg_audio_data = EEG_AUDIO_DATA(eeg, audio)"
   ]
  },
  {
   "cell_type": "code",
   "execution_count": 5,
   "metadata": {},
   "outputs": [
    {
     "name": "stdout",
     "output_type": "stream",
     "text": [
      "['StartBlockSaying', '.', 1656414818.7617188, 1656414820.453125, 2073990, 2074856, 790883, 866, 1656407619.1551409]\n",
      "['StartReading', 'TENEDOR', 1656414820.453125, 1656414821.1621094, 2074856, 2075219, 865464, 363, 1656407620.8462954]\n",
      "['StartSaying', 'TENEDOR', 1656414821.1621094, 1656414823.1679688, 2075219, 2076246, 896771, 1027, 1656407621.5561843]\n"
     ]
    }
   ],
   "source": [
    "items = eeg_audio_data.MappingEEGEventsWithMarkers[:3]\n",
    "for item in items:\n",
    "    print(item)"
   ]
  },
  {
   "cell_type": "code",
   "execution_count": 13,
   "metadata": {},
   "outputs": [
    {
     "data": {
      "text/plain": [
       "['StartBlockSaying, , 1656414818.7617188, 1656414820.453125, 2073990, 2074856, 790883, 866, 1656407619.1551409',\n",
       " 'StartReading, TENEDOR, 1656414820.453125, 1656414821.1621094, 2074856, 2075219, 865464, 363, 1656407620.8462954',\n",
       " 'StartSaying, TENEDOR, 1656414821.1621094, 1656414823.1679688, 2075219, 2076246, 896771, 1027, 1656407621.5561843']"
      ]
     },
     "execution_count": 13,
     "metadata": {},
     "output_type": "execute_result"
    }
   ],
   "source": [
    "list_of_strings = [', '.join(map(str, sublist)) for sublist in items]\n",
    "list_of_strings"
   ]
  },
  {
   "cell_type": "code",
   "execution_count": null,
   "metadata": {},
   "outputs": [],
   "source": []
  }
 ],
 "metadata": {
  "kernelspec": {
   "display_name": "eeg",
   "language": "python",
   "name": "python3"
  },
  "language_info": {
   "codemirror_mode": {
    "name": "ipython",
    "version": 3
   },
   "file_extension": ".py",
   "mimetype": "text/x-python",
   "name": "python",
   "nbconvert_exporter": "python",
   "pygments_lexer": "ipython3",
   "version": "3.10.14"
  }
 },
 "nbformat": 4,
 "nbformat_minor": 2
}

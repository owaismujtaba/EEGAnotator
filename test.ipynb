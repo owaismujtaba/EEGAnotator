{
 "cells": [
  {
   "cell_type": "code",
   "execution_count": 1,
   "metadata": {},
   "outputs": [],
   "source": [
    "import pyxdf\n",
    "import pdb\n",
    "# Load the XDF file\n",
    "filepath = '/home/owais/EEGAnotator/Data/Patients/F10/PictureNaming/xdf/sample.xdf'\n"
   ]
  },
  {
   "cell_type": "code",
   "execution_count": 2,
   "metadata": {},
   "outputs": [],
   "source": [
    "class XDFDATA:\n",
    "    def __init__(self, filepath) -> None:\n",
    "        self.filepath = filepath\n",
    "        self.filname = self.filepath.split('/')[-1]\n",
    "        self.streams = None\n",
    "        self.n_channels = []\n",
    "        self.channel_types = []\n",
    "        self.channel_names = []  \n",
    "        self.load_xdf_file()\n",
    "        self.file_info()  \n",
    "\n",
    "    def load_xdf_file(self):\n",
    "        print('Loading {}. file'.format(self.filepath.split('/')[-1]))\n",
    "        self.streams, _ = pyxdf.load_xdf(self.filepath)\n",
    "        print('Finished loading data')\n",
    "\n",
    "    def file_info(self):\n",
    "        ####### Information about the Recordings ######\n",
    "        self.n_channels = len(self.streams)\n",
    "\n",
    "        for channel_no in range(self.n_channels):\n",
    "            channel_data = self.streams[channel_no]\n",
    "\n",
    "            #return channel_data\n",
    "            #pdb.set_trace()\n",
    "            self.channel_names.append(channel_data['info']['name'][0])\n",
    "            self.channel_types.append(channel_data['info']['type'][0])\n",
    "\n",
    "    def get_channel_data(self, channel_name):\n",
    "        channel_no = self.channel_names.index(channel_name)\n",
    "        channel_type = self.channel_types[channel_no]\n",
    "        return channel_no, channel_type, channel_name\n",
    "        #pdb.set_trace()\n",
    "        #time_stamps = self.streams[channel_no]['time_stamps']\n",
    "        #time_series = self.streams[channel_no]['time_streams']\n",
    "\n",
    "        \n",
    "        \n",
    "\n",
    "    "
   ]
  },
  {
   "cell_type": "code",
   "execution_count": 3,
   "metadata": {},
   "outputs": [
    {
     "name": "stdout",
     "output_type": "stream",
     "text": [
      "Loading sample.xdf. file\n",
      "Finished loading data\n"
     ]
    }
   ],
   "source": [
    "f10 = XDFDATA(filepath)\n",
    "data = f10.file_info()"
   ]
  },
  {
   "cell_type": "code",
   "execution_count": 5,
   "metadata": {},
   "outputs": [
    {
     "data": {
      "text/plain": [
       "(['PictureNamingMarkerStream', 'MyAudioStream'], ['Markers', 'Audio'], 2)"
      ]
     },
     "execution_count": 5,
     "metadata": {},
     "output_type": "execute_result"
    }
   ],
   "source": [
    "f10.channel_names, f10.channel_types, f10.n_channels"
   ]
  },
  {
   "cell_type": "code",
   "execution_count": 6,
   "metadata": {},
   "outputs": [
    {
     "data": {
      "text/plain": [
       "(0, 'Markers', 'PictureNamingMarkerStream')"
      ]
     },
     "execution_count": 6,
     "metadata": {},
     "output_type": "execute_result"
    }
   ],
   "source": [
    "f10.get_channel_data('PictureNamingMarkerStream')"
   ]
  },
  {
   "cell_type": "code",
   "execution_count": 3,
   "metadata": {},
   "outputs": [],
   "source": [
    "filepath = '/home/owais/EEGAnotator/tcode.txt'\n",
    "def remove_empty_and_commented_lines(input_file, output_file):\n",
    "    with open(input_file, 'r') as f:\n",
    "        lines = f.readlines()\n",
    "\n",
    "    # Remove empty lines and lines starting with #\n",
    "    non_empty_lines = [line for line in lines if line.strip() and not line.strip().startswith('#')]\n",
    "\n",
    "    with open(output_file, 'w') as f:\n",
    "        f.writelines(non_empty_lines)\n",
    "\n",
    "# Example usage:\n",
    "input_file = filepath\n",
    "output_file = 'output.txt'\n",
    "remove_empty_lines(input_file, output_file)\n"
   ]
  },
  {
   "cell_type": "code",
   "execution_count": null,
   "metadata": {},
   "outputs": [],
   "source": []
  }
 ],
 "metadata": {
  "kernelspec": {
   "display_name": "eeg",
   "language": "python",
   "name": "python3"
  },
  "language_info": {
   "codemirror_mode": {
    "name": "ipython",
    "version": 3
   },
   "file_extension": ".py",
   "mimetype": "text/x-python",
   "name": "python",
   "nbconvert_exporter": "python",
   "pygments_lexer": "ipython3",
   "version": "3.10.14"
  }
 },
 "nbformat": 4,
 "nbformat_minor": 2
}

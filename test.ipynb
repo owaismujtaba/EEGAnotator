{
 "cells": [
  {
   "cell_type": "code",
   "execution_count": 1,
   "metadata": {},
   "outputs": [
    {
     "name": "stdout",
     "output_type": "stream",
     "text": [
      "*********************************************************************************\n",
      "***************************Loading .edf file***************************\n",
      "Extracting EDF parameters from /home/owais/EEGAnotator/Data/Patients/F09/JIMÉNEZÁLVAREZ_605b2177-7b18-4d5b-a6df-01fdc6572770.edf...\n",
      "EDF file detected\n",
      "Setting channel info structure...\n",
      "Creating raw.info structure...\n",
      "*******************************Completed*******************************\n",
      "Checking for Interruptions\n",
      "No interruptions detected.\n",
      "*********************************************************************************\n",
      "***************************Loading .xdf file***************************\n",
      "*******************************Completed*******************************\n",
      "***************************EEG File Info***************************\n",
      "Filepath: /home/owais/EEGAnotator/Data/Patients/F09/JIMÉNEZÁLVAREZ_605b2177-7b18-4d5b-a6df-01fdc6572770.edf\n",
      "Start Time: 2022-04-26 17:58:00+00:00, End Time:2022-04-26 21:57:57.500000+00:00\n",
      "Number of Channels: 148\n",
      "Sampling Frequency: 256.0\n",
      "Number of data points: 3685760\n",
      "No. of Triggers: 3685760\n",
      "Duration (seconds): 14397.5\n",
      "Interruptions Check: False\n",
      "Interruptions: None\n",
      "***************************************************************\n",
      "Channel Names: ['Fp1', 'Fp2', 'F3', 'F4', 'C3', 'C4', 'P3', 'P4', 'O1', 'O2', 'F7', 'F8', 'T3', 'T4', 'T5', 'T6', 'T1', 'T2', 'Fz', 'Cz', 'Pz', 'PG1', 'PG2', 'C24', 'ECG+', 'ECG-', 'Delt I +', 'Delt I -', 'Delt D+', 'Delt D-', 'trap I +', 'trap I -', 'trap D+', 'trap D -', 'PVT I +', 'PVT I-', 'PVT D+', 'PVT D-', 'PVL I+', 'PVL I-', 'PVL D+', 'PVL D-', 'ABD I +', 'ABD I -', 'ABD D+', 'ABD D-', 'QUA I +', 'QUA I-', 'QUA D+', 'QUA D-', 'BIF I+', 'BIF I-', 'BIF D+', 'BIF D-', 'TIB I+', 'TIB I -', 'TIB D+', 'TIB D -', 'C59', 'C60', 'CHEST', 'CHEST+', '63', '64', 'F1', 'F2', 'Fc1', 'Fc2', 'C1', 'C2', 'CP1', 'CP2', 'P1', 'P2', 'AF3', 'AF4', 'FC3', 'FC4', 'CP3', 'CP4', 'PO3', 'PO4', 'F5', 'F6', 'FC5', 'FC6', 'C5', 'C6', 'CP5', 'CP6', 'P5', 'P6', 'AF7', 'AF8', 'FT7', 'FT8', 'TP7', 'TP8', 'PO7', 'PO8', 'F9', 'F10', 'FT9', 'FT10', 'T9', 'T10', 'TP9', 'TP10', 'P9', 'P10', 'Nz', 'AFz', 'FCz', 'CPz', 'POz', 'Iz', 'Loc', 'Roc', 'Sp1', 'Sp2', 'C121', 'C122', 'Cb1', 'Cb2', 'C125', 'C126', 'C127', 'C128', 'DC1', 'DC2', 'DC3', 'DC4', 'DC5', 'DC6', 'DC7', 'DC8', 'DC9', 'DC10', 'DC11', 'DC12', 'DC13', 'DC14', 'DC15', 'DC16', 'TRIG', 'SpO2', 'PR', 'Pleth']\n",
      "***************************************************************\n",
      "***************************Audio File Info***************************\n",
      "Filepath: /home/owais/EEGAnotator/Data/Patients/F09/sub-AntoniaJimenezAlvarez_ses-VCV_Ses01_task-Default_run-001_eeg.xdf\n",
      "Marker :::: Start Time: 2022-04-26T16:11:13, End Time:2022-04-26T16:45:35\n",
      "No. Markers : 1290\n",
      "Marker Duration: 2062 seconds\n",
      "Sampling Frequency: 44102.141015658024\n",
      "Audio :::: Start Time: 2022-04-26T16:10:53, End Time:2022-04-26T16:45:44\n",
      "Audio Duration: 2091 seconds\n",
      "***************************************************************\n"
     ]
    }
   ],
   "source": [
    "from utils import DATA\n",
    "import config\n",
    "import pdb\n",
    "\n",
    "xdf_path = '/home/owais/EEGAnotator/Data/Patients/F10/PictureNaming/xdf/sample.xdf'\n",
    "edf_path = '/home/owais/EEGAnotator/Data/Patients/F10/PictureNaming/eeg/sample.edf'\n",
    "\n",
    "\n",
    "\n",
    "data = DATA(filepath_xdf=xdf_path, filepath_edf=edf_path)\n",
    "data.print_info()"
   ]
  },
  {
   "cell_type": "code",
   "execution_count": null,
   "metadata": {},
   "outputs": [],
   "source": []
  }
 ],
 "metadata": {
  "kernelspec": {
   "display_name": "eeg",
   "language": "python",
   "name": "python3"
  },
  "language_info": {
   "codemirror_mode": {
    "name": "ipython",
    "version": 3
   },
   "file_extension": ".py",
   "mimetype": "text/x-python",
   "name": "python",
   "nbconvert_exporter": "python",
   "pygments_lexer": "ipython3",
   "version": "3.10.14"
  }
 },
 "nbformat": 4,
 "nbformat_minor": 2
}

{
 "cells": [
  {
   "cell_type": "code",
   "execution_count": 1,
   "metadata": {},
   "outputs": [
    {
     "name": "stdout",
     "output_type": "stream",
     "text": [
      "***************************Loading Audio data***************************\n",
      "*********************************************************************************\n",
      "***************************Loading .xdf file***************************\n",
      "*******************************Completed*******************************\n",
      "***************************Preprocessing Audio data***************************\n",
      "***************************Started Bundling markers and audio timestamps***************************\n"
     ]
    }
   ],
   "source": [
    "from src.code.audio import AUDIO_DATA\n",
    "#from src.audio import AUDIO_DATA\n",
    "edf_path = 'C:\\DeepRESTORE\\EEGAnotator\\Data\\F10\\PictureNaming\\eeg\\\\f10.edf'\n",
    "xdf_path = 'C:\\DeepRESTORE\\\\25-05-2024\\EEG_AUDIO_Anotator\\F10\\PictureNaming\\\\xdf\\\\f10.xdf'\n",
    "#edf_path = '/home/owais/GitHub/21-05-2024/EEGAnotator/F10/PictureNaming/eeg/sample.edf'\n",
    "#xdf_path = '/home/owais/GitHub/21-05-2024/EEGAnotator/F10/PictureNaming/xdf/sample.xdf'\n",
    "audio = AUDIO_DATA(filepath_xdf=xdf_path)\n"
   ]
  },
  {
   "cell_type": "code",
   "execution_count": 2,
   "metadata": {},
   "outputs": [
    {
     "name": "stdout",
     "output_type": "stream",
     "text": [
      "*********************************************************************************\n",
      "***************************Loading .edf file***************************\n",
      "C:\\DeepRESTORE\\EEGAnotator\\Data\\F10\\PictureNaming\\eeg\\f10.edf\n",
      "Extracting EDF parameters from C:\\DeepRESTORE\\EEGAnotator\\Data\\F10\\PictureNaming\\eeg\\f10.edf...\n",
      "EDF file detected\n",
      "Setting channel info structure...\n",
      "Creating raw.info structure...\n",
      "*******************************Completed*******************************\n",
      "Checking for Interruptions\n",
      "No interruptions detected.\n"
     ]
    }
   ],
   "source": [
    "from src.code.eeg import EEG_DATA\n",
    "\n",
    "eeg = EEG_DATA(edf_path)"
   ]
  },
  {
   "cell_type": "code",
   "execution_count": 5,
   "metadata": {},
   "outputs": [
    {
     "data": {
      "text/plain": [
       "[['ExperimentStarted', '', 1656407619.154994, 790877],\n",
       " ['StartBlockSaying', '', 1656407619.1551409, 790883],\n",
       " ['StartReading', 'TENEDOR', 1656407620.8462954, 865464],\n",
       " ['EndReading', 'TENEDOR', 1656407621.5558956, 896758]]"
      ]
     },
     "execution_count": 5,
     "metadata": {},
     "output_type": "execute_result"
    }
   ],
   "source": [
    "audio.MARKERS_WORDS_TIMESTAMPS_AUDIO_STARTINDEX[:4]"
   ]
  },
  {
   "cell_type": "code",
   "execution_count": 6,
   "metadata": {},
   "outputs": [
    {
     "data": {
      "text/plain": [
       "[['ExperimentEnded', 0.0, 9.0546875, 0, 4636, 4636],\n",
       " ['StartBlockSaying', 9.0546875, 11.021484375, 4636, 5643, 1007],\n",
       " ['StartReading', 11.021484375, 12.5234375, 5643, 6412, 769],\n",
       " ['EndReading', 12.5234375, 14.076171875, 6412, 7207, 795]]"
      ]
     },
     "execution_count": 6,
     "metadata": {},
     "output_type": "execute_result"
    }
   ],
   "source": [
    "eeg.EVENTS[:4]"
   ]
  },
  {
   "cell_type": "code",
   "execution_count": 7,
   "metadata": {},
   "outputs": [
    {
     "data": {
      "text/plain": [
       "array([0.00000000e+00, 1.95312500e-03, 3.90625000e-03, ...,\n",
       "       5.96849414e+03, 5.96849609e+03, 5.96849805e+03])"
      ]
     },
     "execution_count": 7,
     "metadata": {},
     "output_type": "execute_result"
    }
   ],
   "source": [
    "eeg.TIME_STAMPS"
   ]
  },
  {
   "cell_type": "code",
   "execution_count": 9,
   "metadata": {},
   "outputs": [],
   "source": [
    "import numpy as np\n",
    "\n",
    "def bundle_audio_markers_with_timestamps(markers, marker_timestamps, audio_timestamps):\n",
    "    \"\"\"\n",
    "    Bundles audio markers with corresponding timestamps.\n",
    "\n",
    "    Parameters:\n",
    "        - markers (list): List of marker data.\n",
    "        - marker_timestamps (list): List of timestamps corresponding to the markers.\n",
    "        - audio_timestamps (np.ndarray): Array of timestamps corresponding to the audio data.\n",
    "\n",
    "    Returns:\n",
    "        - marker_word_timestamp (list): List of lists containing marker action, marker word, timestamp, and audio start index.\n",
    "    \"\"\"\n",
    "    print('***************************Started Bundling markers and audio timestamps***************************')\n",
    "\n",
    "    marker_word_timestamp = []\n",
    "\n",
    "    # Pre-calculate the closest audio start indices for each marker timestamp\n",
    "    audio_indices = np.searchsorted(audio_timestamps, marker_timestamps)\n",
    "    audio_indices = np.clip(audio_indices, 1, len(audio_timestamps) - 1)\n",
    "    left_distances = abs(audio_timestamps[audio_indices - 1] - marker_timestamps)\n",
    "    right_distances = abs(audio_timestamps[audio_indices] - marker_timestamps)\n",
    "    closest_indices = np.where(left_distances <= right_distances, audio_indices - 1, audio_indices)\n",
    "\n",
    "    # Process each marker and its corresponding timestamp\n",
    "    for index in range(len(markers)):\n",
    "        marker_values = markers[index][0].split(':')\n",
    "\n",
    "        marker_action = marker_values[0]\n",
    "        marker_word = marker_values[1] if len(marker_values) > 1 else ''\n",
    "        timestamp = marker_timestamps[index]\n",
    "        audio_start_index = closest_indices[index]\n",
    "\n",
    "        marker_word_timestamp.append([marker_action, marker_word, timestamp, audio_start_index])\n",
    "\n",
    "    return marker_word_timestamp\n"
   ]
  },
  {
   "cell_type": "code",
   "execution_count": 10,
   "metadata": {},
   "outputs": [
    {
     "name": "stdout",
     "output_type": "stream",
     "text": [
      "***************************Started Bundling markers and audio timestamps***************************\n"
     ]
    }
   ],
   "source": [
    "x = bundle_audio_markers_with_timestamps(audio.MARKERS, audio.MARKERS_TIME_STAMPS, audio.AUDIO_TIME_STAMPS )"
   ]
  },
  {
   "cell_type": "code",
   "execution_count": 1,
   "metadata": {},
   "outputs": [
    {
     "ename": "NameError",
     "evalue": "name 'x' is not defined",
     "output_type": "error",
     "traceback": [
      "\u001b[1;31m---------------------------------------------------------------------------\u001b[0m",
      "\u001b[1;31mNameError\u001b[0m                                 Traceback (most recent call last)",
      "Cell \u001b[1;32mIn[1], line 1\u001b[0m\n\u001b[1;32m----> 1\u001b[0m \u001b[43mx\u001b[49m\n",
      "\u001b[1;31mNameError\u001b[0m: name 'x' is not defined"
     ]
    }
   ],
   "source": [
    "x"
   ]
  },
  {
   "cell_type": "code",
   "execution_count": 16,
   "metadata": {},
   "outputs": [
    {
     "data": {
      "text/plain": [
       "[['ExperimentEnded', 0.0, 9.0546875, 0, 4636, 4636],\n",
       " ['StartBlockSaying', 9.0546875, 11.021484375, 4636, 5643, 1007],\n",
       " ['StartReading', 11.021484375, 12.5234375, 5643, 6412, 769],\n",
       " ['EndReading', 12.5234375, 14.076171875, 6412, 7207, 795]]"
      ]
     },
     "execution_count": 16,
     "metadata": {},
     "output_type": "execute_result"
    }
   ],
   "source": [
    "eeg.EVENTS[:4]"
   ]
  },
  {
   "cell_type": "code",
   "execution_count": 13,
   "metadata": {},
   "outputs": [],
   "source": [
    "y = audio.MARKERS_WORDS_TIMESTAMPS_AUDIO_STARTINDEX"
   ]
  },
  {
   "cell_type": "code",
   "execution_count": 14,
   "metadata": {},
   "outputs": [
    {
     "data": {
      "text/plain": [
       "True"
      ]
     },
     "execution_count": 14,
     "metadata": {},
     "output_type": "execute_result"
    }
   ],
   "source": [
    "y == x"
   ]
  },
  {
   "cell_type": "code",
   "execution_count": 5,
   "metadata": {},
   "outputs": [
    {
     "data": {
      "text/plain": [
       "array([1.6564076e+09, 1.6564076e+09, 1.6564076e+09, 1.6564076e+09])"
      ]
     },
     "execution_count": 5,
     "metadata": {},
     "output_type": "execute_result"
    }
   ],
   "source": [
    "audio_ts = audio.STREAMS[1]['time_stamps']\n",
    "audio_ts[:4]"
   ]
  },
  {
   "cell_type": "code",
   "execution_count": 9,
   "metadata": {},
   "outputs": [
    {
     "data": {
      "text/plain": [
       "896758"
      ]
     },
     "execution_count": 9,
     "metadata": {},
     "output_type": "execute_result"
    }
   ],
   "source": [
    "import numpy as np\n",
    "\n",
    "index = np.argmin(abs(audio_ts - marker_ts[3]))\n",
    "index"
   ]
  },
  {
   "cell_type": "code",
   "execution_count": 12,
   "metadata": {},
   "outputs": [
    {
     "data": {
      "text/plain": [
       "1656407621.5561934"
      ]
     },
     "execution_count": 12,
     "metadata": {},
     "output_type": "execute_result"
    }
   ],
   "source": [
    "audio_ts[index]"
   ]
  },
  {
   "cell_type": "code",
   "execution_count": 13,
   "metadata": {},
   "outputs": [
    {
     "data": {
      "text/plain": [
       "numpy.datetime64('2022-06-28T11:13:21.221')"
      ]
     },
     "execution_count": 13,
     "metadata": {},
     "output_type": "execute_result"
    }
   ],
   "source": [
    "audio.AUDIO_START_TIME"
   ]
  },
  {
   "cell_type": "code",
   "execution_count": null,
   "metadata": {},
   "outputs": [],
   "source": []
  }
 ],
 "metadata": {
  "kernelspec": {
   "display_name": "eeg",
   "language": "python",
   "name": "python3"
  },
  "language_info": {
   "codemirror_mode": {
    "name": "ipython",
    "version": 3
   },
   "file_extension": ".py",
   "mimetype": "text/x-python",
   "name": "python",
   "nbconvert_exporter": "python",
   "pygments_lexer": "ipython3",
   "version": "3.10.14"
  }
 },
 "nbformat": 4,
 "nbformat_minor": 2
}

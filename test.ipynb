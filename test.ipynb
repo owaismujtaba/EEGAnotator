{
 "cells": [
  {
   "cell_type": "code",
   "execution_count": 1,
   "metadata": {},
   "outputs": [
    {
     "name": "stdout",
     "output_type": "stream",
     "text": [
      "***************************Loading Audio data***************************\n",
      "*********************************************************************************\n",
      "***************************Loading .xdf file***************************\n",
      "*******************************Completed*******************************\n",
      "***************************Preprocessing Audio data***************************\n",
      "***************************Started Bundling markers and audio timestamps***************************\n",
      "*********************************************************************************\n",
      "***************************Loading .edf file***************************\n",
      "C:\\DeepRESTORE\\EEGAnotator\\Data\\F10\\PictureNaming\\eeg\\f10.edf\n",
      "Extracting EDF parameters from C:\\DeepRESTORE\\EEGAnotator\\Data\\F10\\PictureNaming\\eeg\\f10.edf...\n",
      "EDF file detected\n",
      "Setting channel info structure...\n",
      "Creating raw.info structure...\n",
      "*******************************Completed*******************************\n",
      "Checking for Interruptions\n",
      "No interruptions detected.\n"
     ]
    }
   ],
   "source": [
    "from src.code.audio import AUDIO_DATA\n",
    "from src.code.eeg import EEG_DATA\n",
    "edf_path = 'C:\\DeepRESTORE\\EEGAnotator\\Data\\F10\\PictureNaming\\eeg\\\\f10.edf'\n",
    "xdf_path = 'C:\\DeepRESTORE\\\\25-05-2024\\EEGAnotator\\Data\\F10\\PictureNaming\\\\xdf\\\\f10.xdf'\n",
    "#edf_path = '/home/owais/GitHub/21-05-2024/EEGAnotator/F10/PictureNaming/eeg/sample.edf'\n",
    "#xdf_path = '/home/owais/GitHub/21-05-2024/EEGAnotator/F10/PictureNaming/xdf/sample.xdf'\n",
    "audio = AUDIO_DATA(filepath_xdf=xdf_path)\n",
    "eeg = EEG_DATA(edf_path)\n"
   ]
  },
  {
   "cell_type": "code",
   "execution_count": 2,
   "metadata": {},
   "outputs": [
    {
     "data": {
      "text/plain": [
       "array([1.65640762e+09, 1.65640762e+09, 1.65640762e+09, ...,\n",
       "       1.65640929e+09, 1.65640929e+09, 1.65640929e+09])"
      ]
     },
     "execution_count": 2,
     "metadata": {},
     "output_type": "execute_result"
    }
   ],
   "source": [
    "audio.MARKERS_TIME_STAMPS"
   ]
  },
  {
   "cell_type": "code",
   "execution_count": 3,
   "metadata": {},
   "outputs": [],
   "source": [
    "from src.utils import EEG_AUDIO_DATA"
   ]
  },
  {
   "cell_type": "code",
   "execution_count": 6,
   "metadata": {},
   "outputs": [],
   "source": [
    "eeg_audio_data = EEG_AUDIO_DATA(eeg, audio)"
   ]
  },
  {
   "cell_type": "code",
   "execution_count": 8,
   "metadata": {},
   "outputs": [
    {
     "data": {
      "text/plain": [
       "[['StartBlockSaying',\n",
       "  '',\n",
       "  1656414818.7617188,\n",
       "  1656414820.453125,\n",
       "  2073990,\n",
       "  2074856,\n",
       "  790883,\n",
       "  866,\n",
       "  1656407619.1551409],\n",
       " ['StartReading',\n",
       "  'TENEDOR',\n",
       "  1656414820.453125,\n",
       "  1656414821.1621094,\n",
       "  2074856,\n",
       "  2075219,\n",
       "  865464,\n",
       "  363,\n",
       "  1656407620.8462954],\n",
       " ['StartSaying',\n",
       "  'TENEDOR',\n",
       "  1656414821.1621094,\n",
       "  1656414823.1679688,\n",
       "  2075219,\n",
       "  2076246,\n",
       "  896771,\n",
       "  1027,\n",
       "  1656407621.5561843]]"
      ]
     },
     "execution_count": 8,
     "metadata": {},
     "output_type": "execute_result"
    }
   ],
   "source": [
    "eeg_audio_data.MappingEEGEventsWithMarkers[:3]"
   ]
  },
  {
   "cell_type": "code",
   "execution_count": null,
   "metadata": {},
   "outputs": [],
   "source": []
  }
 ],
 "metadata": {
  "kernelspec": {
   "display_name": "eeg",
   "language": "python",
   "name": "python3"
  },
  "language_info": {
   "codemirror_mode": {
    "name": "ipython",
    "version": 3
   },
   "file_extension": ".py",
   "mimetype": "text/x-python",
   "name": "python",
   "nbconvert_exporter": "python",
   "pygments_lexer": "ipython3",
   "version": "3.10.14"
  }
 },
 "nbformat": 4,
 "nbformat_minor": 2
}

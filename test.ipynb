{
 "cells": [
  {
   "cell_type": "code",
   "execution_count": 1,
   "metadata": {},
   "outputs": [],
   "source": [
    "from src.classes.audio import AudioData\n",
    "from src.classes.eeg import EegData\n",
    "from src.classes.eeg_audio import EegAudioData\n"
   ]
  },
  {
   "cell_type": "code",
   "execution_count": 6,
   "metadata": {},
   "outputs": [],
   "source": [
    "edfFilePath = r'C:\\DeepRESTORE\\\\Last\\Data\\\\F10\\\\PictureNaming\\\\eeg\\\\f10.edf'\n",
    "xdfFilePath = r'C:\\DeepRESTORE\\\\Last\\Data\\\\F10\\\\PictureNaming\\\\xdf\\\\f10.xdf'"
   ]
  },
  {
   "cell_type": "code",
   "execution_count": 8,
   "metadata": {},
   "outputs": [
    {
     "name": "stdout",
     "output_type": "stream",
     "text": [
      "***************************Loading Audio data***************************\n",
      "*********************************************************************************\n",
      "***************************Loading .xdf file***************************\n",
      "*******************************Completed*******************************\n",
      "***************************Preprocessing Audio data***************************\n",
      "***************************Started bundling markers and audio timestamps***************************\n",
      "*********************************************************************************\n",
      "***************************Loading .edf file***************************\n",
      "C:\\DeepRESTORE\\\\Last\\Data\\\\F10\\\\PictureNaming\\\\eeg\\\\f10.edf\n",
      "Extracting EDF parameters from C:\\DeepRESTORE\\Last\\Data\\F10\\PictureNaming\\eeg\\f10.edf...\n",
      "EDF file detected\n",
      "Setting channel info structure...\n",
      "Creating raw.info structure...\n",
      "Reading 0 ... 3055871  =      0.000 ...  5968.498 secs...\n",
      "*******************************Completed*******************************\n",
      "Checking for Interruptions\n",
      "No interruptions detected.\n"
     ]
    }
   ],
   "source": [
    "audio = AudioData(xdfFilePath)\n",
    "eeg = EegData(edfFilePath)"
   ]
  },
  {
   "cell_type": "code",
   "execution_count": 9,
   "metadata": {},
   "outputs": [
    {
     "data": {
      "text/plain": [
       "['HT1', 'HT2', 'HT3']"
      ]
     },
     "execution_count": 9,
     "metadata": {},
     "output_type": "execute_result"
    }
   ],
   "source": [
    "channelNames = eeg.channelNames[:3]\n",
    "channelNames"
   ]
  },
  {
   "cell_type": "code",
   "execution_count": 10,
   "metadata": {},
   "outputs": [],
   "source": [
    "rawEeg = eeg.rawData.copy()\n",
    "pickData = rawEeg.pick(channelNames)"
   ]
  },
  {
   "cell_type": "code",
   "execution_count": 13,
   "metadata": {},
   "outputs": [
    {
     "data": {
      "text/plain": [
       "(array([[ 8.94560616e-05,  9.92922408e-05,  1.04609094e-04, ...,\n",
       "         -1.32921340e-07, -1.32921340e-07, -1.32921340e-07]]),\n",
       " array([0.00000000e+00, 1.95312500e-03, 3.90625000e-03, ...,\n",
       "        5.96849414e+03, 5.96849609e+03, 5.96849805e+03]))"
      ]
     },
     "execution_count": 13,
     "metadata": {},
     "output_type": "execute_result"
    }
   ],
   "source": [
    "pickData[:1024:10125]"
   ]
  },
  {
   "cell_type": "code",
   "execution_count": 14,
   "metadata": {},
   "outputs": [],
   "source": [
    "sliced_raw = pickData.copy().crop(tmin=1024 / rawEeg.info['sfreq'], \n",
    "                             tmax=102456 / rawEeg.info['sfreq'])"
   ]
  },
  {
   "cell_type": "code",
   "execution_count": 16,
   "metadata": {},
   "outputs": [
    {
     "name": "stdout",
     "output_type": "stream",
     "text": [
      "Writing c:\\DeepRESTORE\\Last\\owais.fif\n",
      "Closing c:\\DeepRESTORE\\Last\\owais.fif\n",
      "[done]\n"
     ]
    },
    {
     "name": "stderr",
     "output_type": "stream",
     "text": [
      "C:\\Users\\Owais Mujtaba\\AppData\\Local\\Temp\\ipykernel_1684\\2990584676.py:1: RuntimeWarning: This filename (c:\\DeepRESTORE\\Last\\owais.fif) does not conform to MNE naming conventions. All raw files should end with raw.fif, raw_sss.fif, raw_tsss.fif, _meg.fif, _eeg.fif, _ieeg.fif, raw.fif.gz, raw_sss.fif.gz, raw_tsss.fif.gz, _meg.fif.gz, _eeg.fif.gz or _ieeg.fif.gz\n",
      "  sliced_raw.save('owais.fif', overwrite=True)\n"
     ]
    }
   ],
   "source": [
    "sliced_raw.save('owais.fif', overwrite=True)"
   ]
  },
  {
   "cell_type": "code",
   "execution_count": null,
   "metadata": {},
   "outputs": [],
   "source": []
  }
 ],
 "metadata": {
  "kernelspec": {
   "display_name": "eeg",
   "language": "python",
   "name": "python3"
  },
  "language_info": {
   "codemirror_mode": {
    "name": "ipython",
    "version": 3
   },
   "file_extension": ".py",
   "mimetype": "text/x-python",
   "name": "python",
   "nbconvert_exporter": "python",
   "pygments_lexer": "ipython3",
   "version": "3.10.14"
  }
 },
 "nbformat": 4,
 "nbformat_minor": 2
}
